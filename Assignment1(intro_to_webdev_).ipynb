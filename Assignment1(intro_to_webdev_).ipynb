{
  "nbformat": 4,
  "nbformat_minor": 0,
  "metadata": {
    "colab": {
      "provenance": []
    },
    "kernelspec": {
      "name": "python3",
      "display_name": "Python 3"
    },
    "language_info": {
      "name": "python"
    }
  },
  "cells": [
    {
      "cell_type": "code",
      "execution_count": null,
      "metadata": {
        "id": "yz_ekxukfXq6"
      },
      "outputs": [],
      "source": []
    },
    {
      "cell_type": "markdown",
      "source": [
        "#Introduction to Web Development\n"
      ],
      "metadata": {
        "id": "704JbSV9faKe"
      }
    },
    {
      "cell_type": "markdown",
      "source": [
        "Q.1 : Explain the basic structure of an HTML page. Why is it important to follow\n",
        "this structure?\n",
        "\n",
        "Ans.  Basic structure of HTML page contain elements likes, begin with <!doctype\n",
        " html> which tells the browser the current standard for html5, < html> which is root element, < head> contain meta information like title of page etc. , < body> which contain all the contain of page.\n",
        "\n",
        "Basic structure looks like:\n",
        "  \n",
        "  < !DOCTYPE html>\n",
        "  \n",
        "  < html>\n",
        "\n",
        "  < head>\n",
        "  < title> title of the page < /title>\n",
        "\n",
        "  < /head>\n",
        "\n",
        "  < body>\n",
        "  < p> content of the page  < /p>\n",
        "\n",
        "  < / body>\n",
        "  \n",
        "  < /html>\n",
        "\n",
        "It is important to follow the sturcture to resolve these kind of problems:\n",
        "\n",
        "1.To make a SEO ( Search Engine optimization) work properly . if the stucture of html code is not proper Search engines like Google read HTML to rank pages.\n",
        "A clean, structured page is easier to crawl and index and help content to  show up in search results properly\n",
        "\n",
        "\n",
        "2.To make css and javascript work properly . If the stucture is not proper css and javascript  will not get correct location to work on and page will look good and not function well.\n",
        "\n",
        "3.To makes Code Easier to Read and Maintain\n",
        "A well-structured HTML file is Easier for others to understand,and  Faster to update or debug in the future.\n"
      ],
      "metadata": {
        "id": "m9CBRlXQfuLB"
      }
    },
    {
      "cell_type": "markdown",
      "source": [
        "Ques 2. You’re building a small personal profile page. Which HTML tags will you\n",
        "use to highlight your name as a heading, describe yourself in a paragraph, and\n",
        "emphasize a key skill?\n",
        "\n",
        "\n",
        "Ans. To highlight my name I use < h1> heading tag because it give me the laregst text as I want and i also  use < b> tage to bold my name as to make it heighlight of my protfolia which make it more looks good .\n",
        "\n",
        "As to describe myself I preferly use < p> tag for paragraph as i describe my self in short para in which  I can also use < b> to bold  some of my key features  i can also use < i> to italic some words and < u> to underline that i want to heighlight.\n",
        "\n",
        "And to emphasise my key skills i like to < ol> tag to make ordered list formate which helps to make my portfolio more attractive and valuable.\n",
        "\n",
        "Here is the example how I try to make my portfolio\n",
        "\n",
        "```\n",
        "# This is formatted as code\n",
        "<!DOCTYPE html>\n",
        "<html>\n",
        "  <head>\n",
        "    <title>My Profile</title>\n",
        "  </head>\n",
        "  <body>\n",
        "\n",
        "    <!-- Name as a heading -->\n",
        "    <h1>Ankita</h1>\n",
        "\n",
        "    <!-- Description in a paragraph -->\n",
        "    <p>\n",
        "      I am a learner as a web developer with a love for clean code and creative design.\n",
        "    </p>\n",
        "\n",
        "    <!-- Emphasizing a key skill -->\n",
        "    <p>\n",
        "      My key strength is <basic>JavaScript development</strong>, especially building dynamic user interfaces.\n",
        "    </p>\n",
        "\n",
        "  </body>\n",
        "</html>\n",
        "\n",
        "```\n",
        "\n"
      ],
      "metadata": {
        "id": "GjVu0Utxf5q4"
      }
    },
    {
      "cell_type": "markdown",
      "source": [
        "Ques.3 Look at the code below. Can you find and fix the mistake?\n",
        "  < !-- This is an HTML comment\n",
        "<h1>Welcome to my website</h1>\n",
        "\n",
        "Ans. Here the comment line start but not closed.\n",
        "\n",
        "here is the correct code:\n",
        "\n",
        "\n",
        "\n",
        "```\n",
        "# This is formatted as code\n",
        "<!-- This is an HTML comment -->\n",
        "<h1>Welcome to my website</h1>\n",
        "\n",
        "```\n",
        "\n",
        "\n",
        "\n"
      ],
      "metadata": {
        "id": "_xZfY6cB3-2G"
      }
    },
    {
      "cell_type": "markdown",
      "source": [
        "Ques 4. You’re creating a form that asks the user to enter their name, select their\n",
        "country from a list, and click a button to submit. Write the HTML code for this.\n",
        "\n",
        "\n",
        "Ans.\n",
        "\n",
        "```\n",
        "# This is formatted as code\n",
        "<!DOCTYPE html>\n",
        "<html>\n",
        "  <head>\n",
        "    <title>User Info Form</title>\n",
        "  </head>\n",
        "  <body>\n",
        "\n",
        "    <h2>User Information Form</h2>\n",
        "\n",
        "    <form action=\"/submit\" method=\"post\">\n",
        "      <!-- Name input -->\n",
        "      <label for=\"name\">Name:</label>\n",
        "      <input type=\"text\" id=\"name\" name=\"name\" required>\n",
        "      <br><br>\n",
        "\n",
        "      <!-- Country dropdown -->\n",
        "      <label for=\"country\">Country:</label>\n",
        "      <select id=\"country\" name=\"country\" required>\n",
        "        <option value=\"\">--Select your country--</option>\n",
        "        <option value=\"india\">India</option>\n",
        "        <option value=\"usa\">United States</option>\n",
        "        <option value=\"uk\">United Kingdom</option>\n",
        "        <option value=\"canada\">Canada</option>\n",
        "      </select>\n",
        "      <br><br>\n",
        "\n",
        "      <!-- Submit button -->\n",
        "      <button type=\"submit\">Submit</button>\n",
        "    </form>\n",
        "\n",
        "  </body>\n",
        "</html>\n",
        "\n",
        "```\n",
        "\n"
      ],
      "metadata": {
        "id": "TIwwwTlU5Fb5"
      }
    },
    {
      "cell_type": "markdown",
      "source": [
        "Ques 5. Write short HTML code to show your favorite fruits in a bulleted list and\n",
        "your top 3 programming languages in a numbered list.\n",
        "\n",
        "```\n",
        "# This is formatted as code\n",
        "<!DOCTYPE html>\n",
        "<html lang=\"en\">\n",
        "<head>\n",
        "    <title>My Page</title>\n",
        "</head>\n",
        "<body>\n",
        "    <h2> Favourite fruits </h2>\n",
        "<ul>\n",
        "<li> Apple </li>\n",
        "<li> Mango </li>\n",
        "</ul>\n",
        "<h2>3 programming language </h2>\n",
        "<ol type=\"1\">\n",
        "<li> c++</li>\n",
        "<li>python </li>\n",
        "<li>javascript</li>\n",
        "</ol>\n",
        "</body>\n",
        "</html>\n",
        "\n",
        "```\n",
        "\n"
      ],
      "metadata": {
        "id": "Hnm5pNaB5ZCu"
      }
    }
  ]
}
