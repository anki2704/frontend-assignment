{
  "nbformat": 4,
  "nbformat_minor": 0,
  "metadata": {
    "colab": {
      "provenance": []
    },
    "kernelspec": {
      "name": "python3",
      "display_name": "Python 3"
    },
    "language_info": {
      "name": "python"
    }
  },
  "cells": [
    {
      "cell_type": "markdown",
      "source": [
        "# **Modern HTML**"
      ],
      "metadata": {
        "id": "4F5MYPsgb3h5"
      }
    },
    {
      "cell_type": "markdown",
      "source": [
        "**Q1. List out the features of HTML5.**\n"
      ],
      "metadata": {
        "id": "PRFjOxkgcB5H"
      }
    },
    {
      "cell_type": "markdown",
      "source": [
        "**Ans.** **1. Semantic Elements** - Tags like < header>, < footer>, < section>, < article>, < nav> make content more meaningful.\n",
        "\n",
        "**2. Audio & Video Support** - Direct embedding of multimedia using <audio> and <video> tags.\n",
        "\n",
        "**3. Canvas & SVG Support** - Allows drawing graphics, animations, and charts directly on web pages.\n",
        "\n",
        "**4. Local Storage & Session Storage**- Client-side storage without cookies.\n",
        "\n",
        "**5. Geolocation API** - To access user’s geographical location.\n",
        "\n",
        "**6. Offline Web Applications** - Using Application Cache/Service Workers.\n",
        "\n",
        "**7. Responsive Design Support** - Through new input types, media elements, and < meta viewport>.\n",
        "\n",
        "**8. Form Enhancements** - New input types like email, date, range, number.\n",
        "\n",
        "**9. Improved Accessibility** - Better support for screen readers with ARIA roles.\n"
      ],
      "metadata": {
        "id": "JwFfGJidhdhn"
      }
    },
    {
      "cell_type": "markdown",
      "source": [
        "**Q2. What are HTML Entities? List out 5 commonly used HTML entities?**\n"
      ],
      "metadata": {
        "id": "fZxkoXekcu7O"
      }
    },
    {
      "cell_type": "markdown",
      "source": [
        "**Ans.** HTML entities are special codes used to display reserved characters (like <, >, &, \") that otherwise have meaning in HTML.\n",
        "\n",
        "Examples of 5 commonly used entities:\n",
        "```\n",
        "\n",
        "&lt;  → < (less than)\n",
        "\n",
        "&gt;  → > (greater than)\n",
        "\n",
        "&amp; → & (ampersand)\n",
        "\n",
        "&quot; → \" (double quotation)\n",
        "\n",
        "&nbsp; → (non-breaking space)"
      ],
      "metadata": {
        "id": "rXQzJUjJhsE-"
      }
    },
    {
      "cell_type": "markdown",
      "source": [
        "**Q3. Define accessibility in the context of web development. Discuss why it's essential to create accessible\n",
        "websites and how it benefits different user group**"
      ],
      "metadata": {
        "id": "9IqaxC2sdA9W"
      }
    },
    {
      "cell_type": "markdown",
      "source": [
        "**Ans.** **Accessibility**:\n",
        "It refers to designing and developing websites so that people with disabilities (visual, auditory, motor, or cognitive) can access and use them effectively.\n",
        "  \n",
        "\n",
        "**Importance:**\n",
        "\n",
        "1.*Inclusivity* : Ensures everyone, including people with disabilities, can use the web.\n",
        "\n",
        "2.*Legal Compliance* : Many countries have accessibility laws (like ADA, WCAG standards).\n",
        "\n",
        "3.*Better User Experience*: Accessible websites are more user-friendly for all users.\n",
        "\n",
        "4.*SEO Benefits* : Search engines can better understand accessible, semantic content.\n",
        "\n",
        "**User Groups Benefited:**\n",
        "\n",
        "1.People with visual impairments (screen readers, high contrast text).\n",
        "\n",
        "2.People with hearing impairments (captions, transcripts).\n",
        "\n",
        "3.People with motor disabilities (keyboard navigation, voice control).\n",
        "\n",
        "4.Elderly people or those with temporary disabilities."
      ],
      "metadata": {
        "id": "_XqdpGe9kW5L"
      }
    },
    {
      "cell_type": "markdown",
      "source": [
        "**Q4. List any 3 ways which help us in improving the accessibility of HTML**\n"
      ],
      "metadata": {
        "id": "YV3QYiWfdZIq"
      }
    },
    {
      "cell_type": "markdown",
      "source": [
        "**Ans.**\n",
        "```\n",
        "\n",
        "1.Use semantic HTML tags (<header>, <main>, <article>) for meaningful structure.\n",
        "\n",
        "2.Add alt attributes to images for screen readers.\n",
        "\n",
        "3.Ensure keyboard navigability (e.g., using tabindex, avoiding mouse-only actions)."
      ],
      "metadata": {
        "id": "E6SsQP8UmxZh"
      }
    },
    {
      "cell_type": "markdown",
      "source": [
        "**Q5. Create a web page that highlights the features of HTML5. Use appropriate semantic tags to structure the content and showcase at least three key features of HTML5 with explanations**\n",
        "\n"
      ],
      "metadata": {
        "id": "3aunmA06dbsP"
      }
    },
    {
      "cell_type": "markdown",
      "source": [
        "**Ans.**\n",
        "```\n",
        "\n",
        "\n",
        "<!DOCTYPE html>\n",
        "<html lang=\"en\">\n",
        "<head>\n",
        "    <meta charset=\"UTF-8\">\n",
        "    <meta name=\"viewport\" content=\"width=device-width, initial-scale=1.0\">\n",
        "    <meta name=\"description\" content=\"Features of HTML5\">\n",
        "    <meta name=\"keywords\" content=\"HTML, HTML5, Features, Web Development\">\n",
        "    <meta name=\"author\" content=\"Ankita \">\n",
        "\n",
        "    <title>Features of HTML5</title>\n",
        "</head>\n",
        "<body>\n",
        "     <header>\n",
        "        <h1>Key Features of HTML5</h1>\n",
        "     </header>\n",
        "     <main>\n",
        "        <section>\n",
        "            <article>\n",
        "                <h3>1. Semantic tags</h3>\n",
        "                <p>HTML5 introduce some semantic tags like <code>&lt;header&gt;</code> , <code>&lt;footer&gt;</code> ,<code>&lt;main&gt;</code> ,<code>&lt;section&gt;</code> ,<code>&lt;article&gt;</code> etc. that makes the structure more meaningfull and SEO friendly.</p>\n",
        "            </article>\n",
        "            <br>\n",
        "            <hr>\n",
        "            <br>\n",
        "            <article>\n",
        "                <h3>2. Multimedia Support</h3>\n",
        "               \n",
        "                    <p>With <code>&lt;audio&gt;</code> ,<code>&lt;video&gt;</code>and <code>&lt;img&gt; </code>  tags, HTML5 supports embedding media and images without plugins.</p>\n",
        "                    <img src=\"faye.jpg\" width=\"300\" height=\"350\"  alt=\"actress image name is faye\">\n",
        "                    <video controls width=\"300\">\n",
        "                    <source src=\"sample.mp4\" type=\"video/mp4\">\n",
        "                </video>\n",
        "               \n",
        "            </article>\n",
        "            <br>\n",
        "            <hr>\n",
        "            <br>\n",
        "            <article>\n",
        "                <h2>3. Canvas for Graphics</h2>\n",
        "                <p>The <code>&lt;canvas&gt;</code> element allows drawing shapes, charts, and animations directly on the web page.</p>\n",
        "                <canvas id=\"myCanvas\" width=\"150\" height=\"100\" style=\"border:1px solid black;\">\n",
        "                </canvas>\n",
        "                <script>\n",
        "                    var c = document.getElementById(\"myCanvas\");\n",
        "                    var ctx = c.getContext(\"2d\");\n",
        "                    ctx.fillStyle = \"blue\";\n",
        "                    ctx.fillRect(20,20,100,50);\n",
        "                </script>\n",
        "            </article>\n",
        "        </section>\n",
        "     </main>\n",
        "</body>\n",
        "</html>"
      ],
      "metadata": {
        "id": "MhUt5sdPxlSi"
      }
    },
    {
      "cell_type": "markdown",
      "source": [
        "**Q6. Create a simple web page which has a table. The table must have 2 columns HTML and HTML5. The table\n",
        "should include a minimum of three rows describing the differences between HTML and HTML5.**"
      ],
      "metadata": {
        "id": "vO5lwjgZd509"
      }
    },
    {
      "cell_type": "markdown",
      "source": [
        "**Ans.**\n",
        "```\n",
        "\n",
        "\n",
        "\n",
        "<!DOCTYPE html>\n",
        "<html lang=\"en\">\n",
        "<head>\n",
        "    <meta charset=\"UTF-8\">\n",
        "    <title>HTML vs HTML5</title>\n",
        "</head>\n",
        "<body>\n",
        "    <h1>Differences between HTML and HTML5</h1>\n",
        "    <table border=\"1\" cellpadding=\"8\">\n",
        "        <tr>\n",
        "            <th>HTML</th>\n",
        "            <th>HTML5</th>\n",
        "        </tr>\n",
        "        <tr>\n",
        "            <td>No native support for audio and video.</td>\n",
        "            <td>Provides <code>&lt;audio&gt;</code> and <code>&lt;video&gt;</code> support.</td>\n",
        "        </tr>\n",
        "        <tr>\n",
        "            <td>Limited semantic elements.</td>\n",
        "            <td>Introduced semantic tags like <code>&lt;header&gt;</code>, <code>&lt;footer&gt;</code>, <code>&lt;article&gt;</code>.</td>\n",
        "        </tr>\n",
        "        <tr>\n",
        "            <td>Relies on cookies for client storage.</td>\n",
        "            <td>Supports Local Storage and Session Storage.</td>\n",
        "        </tr>\n",
        "    </table>\n",
        "</body>\n",
        "</html>\n",
        "\n",
        "\n",
        "\n",
        "\n"
      ],
      "metadata": {
        "id": "DjWJx3ejx0Rb"
      }
    }
  ]
}