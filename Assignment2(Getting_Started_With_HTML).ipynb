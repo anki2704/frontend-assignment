{
  "nbformat": 4,
  "nbformat_minor": 0,
  "metadata": {
    "colab": {
      "provenance": []
    },
    "kernelspec": {
      "name": "python3",
      "display_name": "Python 3"
    },
    "language_info": {
      "name": "python"
    }
  },
  "cells": [
    {
      "cell_type": "markdown",
      "source": [
        "### **Getting Started With HTML**"
      ],
      "metadata": {
        "id": "16gNCCayuKc2"
      }
    },
    {
      "cell_type": "markdown",
      "source": [
        "**Q1. Write a simple program in HTML  that displays the heading \"HTML defines the content and structure of\n",
        "your website” on the web browser?**"
      ],
      "metadata": {
        "id": "W-5nx5iw0Ecm"
      }
    },
    {
      "cell_type": "markdown",
      "source": [
        "```\n",
        "\n",
        "<!DOCTYPE html>\n",
        "<html lang=\"en\">\n",
        "    <head>\n",
        "        <title> ASSIGNMENT</title>\n",
        "    </head>\n",
        "    <body>\n",
        "        <h1>\n",
        "            HTML defines the content and structures of your website\n",
        "        </h1>\n",
        "    </body>\n",
        "\n",
        "</html>\n"
      ],
      "metadata": {
        "id": "6bpVCNcpoibN"
      }
    },
    {
      "cell_type": "markdown",
      "source": [
        "**Q2. Explain the purpose of comments in HTML and provide an example of how to use comments in an HTML\n",
        "document?**"
      ],
      "metadata": {
        "id": "LRCaFLMxBHTb"
      }
    },
    {
      "cell_type": "markdown",
      "source": [
        "Ans. Comments are used to give extra information about the code or project and are not executable that means it doen't give output.\n",
        "Comments are written between  \"< !--  -->\"\n",
        "\n",
        "Here is the example code to show how commet will work the line \"<! --unordered list in bullet form-->\" is comment which only give the extra info and doesn't give any output .\n",
        "\n",
        "```\n",
        "<!DOCTYPE html>\n",
        "<html lang=\"en\">\n",
        "    <head>\n",
        "        <title> ASSIGNMENT</title>\n",
        "    </head>\n",
        "    <body>\n",
        "         <h1>LISTS TYPES</h1>\n",
        "    <ul>\n",
        "        <li>ankita.</li>    <!-- unordered list in bullet form-->\n",
        "        <li>vidhi. </li>\n",
        "    </ul>\n",
        "    </body>\n",
        "\n",
        "</html>"
      ],
      "metadata": {
        "id": "GaTDvDj4CTpW"
      }
    },
    {
      "cell_type": "markdown",
      "source": [
        "**Q3. Write an HTML program that includes a heading, a paragraph of text, a horizontal line, and a line break.\n",
        "Arrange these elements to create a simple web page layout?**"
      ],
      "metadata": {
        "id": "ywGTdX9yBfqt"
      }
    },
    {
      "cell_type": "markdown",
      "source": [
        "```\n",
        "<!DOCTYPE html>\n",
        "<html lang=\"en\">\n",
        "<head>\n",
        "    <title>Document</title>\n",
        "</head>\n",
        "<body>\n",
        "    <h1>\n",
        "       <u>Simple Web Page</u>\n",
        "    </h1>\n",
        "    <p>This is the simple pargaraph to give example not related to any content .</p>\n",
        "    <hr>\n",
        "    <p>My name is Ankita</p>\n",
        "    <br>\n",
        "    <p>I have completed my Bachelor's degree in Computer Scince.\n",
        "</body>\n",
        "</html>"
      ],
      "metadata": {
        "id": "UI-AV8wYpMi5"
      }
    },
    {
      "cell_type": "markdown",
      "source": [
        "**Q4. Write a short note on Tag and element with an example?**"
      ],
      "metadata": {
        "id": "uZROuEogBo2U"
      }
    },
    {
      "cell_type": "markdown",
      "source": [
        "**Tags-** Tags define the structure and layout of web pages. Tags are the building blocks of\n",
        "HTML documents and consist of angle brackets enclosing specific keywords.HTML tags are enclosed in angle brackets < > and usually come in pairs: an opening tag and a closing tag. The closing tag has the same text as the opening tag, but with an additional forward-slash '/'. The opening tag marks the beginning of an element, while the closing tag marks the end.\n",
        "\n",
        "For example:< p> <-- opening tag for a paragraph.\n",
        "\n",
        " < /p> <-- closing tag.\n",
        "\n",
        "**Elements-** An HTML Element consists of a **start tag, content, and an end tag**, which together define the element's structure and functionality. Elements are the basic building blocks of a webpage and can represent different types of content, such as text, links, images, or headings.\n",
        "\n",
        "Syntax: < tagname >Your Contents... < /tagname>\n",
        "\n",
        "For Example: < p >Your Contents... < /p>\n"
      ],
      "metadata": {
        "id": "eQHiy1KzhoTp"
      }
    },
    {
      "cell_type": "markdown",
      "source": [
        "**Q5. What is the DOCTYPE Declaration in HTML?**"
      ],
      "metadata": {
        "id": "PUxw7aLeBzsk"
      }
    },
    {
      "cell_type": "markdown",
      "source": [
        "Ans.  DOCTYPE Declaration in HTML represent the document type, and helps browsers to display web pages,\n",
        "* It must appear only once, at the top of the page(before HTML tag)\n",
        "* It ensures the browser renders the page correctly."
      ],
      "metadata": {
        "id": "qCI_jEWrk0HO"
      }
    }
  ]
}